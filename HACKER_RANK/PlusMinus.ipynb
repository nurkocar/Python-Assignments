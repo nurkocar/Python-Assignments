{
 "metadata": {
  "language_info": {
   "codemirror_mode": {
    "name": "ipython",
    "version": 3
   },
   "file_extension": ".py",
   "mimetype": "text/x-python",
   "name": "python",
   "nbconvert_exporter": "python",
   "pygments_lexer": "ipython3",
   "version": "3.9.2"
  },
  "orig_nbformat": 2,
  "kernelspec": {
   "name": "python392jvsc74a57bd05ec24cc9f5f6fed4b379b1e2801ab6ecae928a4ed55537f8d5504dd0f360fe09",
   "display_name": "Python 3.9.2 64-bit"
  },
  "metadata": {
   "interpreter": {
    "hash": "5ec24cc9f5f6fed4b379b1e2801ab6ecae928a4ed55537f8d5504dd0f360fe09"
   }
  }
 },
 "nbformat": 4,
 "nbformat_minor": 2,
 "cells": [
  {
   "cell_type": "code",
   "execution_count": 24,
   "metadata": {},
   "outputs": [],
   "source": [
    "a = [-1, 3, 2, 0, 0, -9]\n",
    "negative = positive = zero = 0\n",
    "l = len(a)"
   ]
  },
  {
   "cell_type": "code",
   "execution_count": 25,
   "metadata": {},
   "outputs": [
    {
     "output_type": "stream",
     "name": "stdout",
     "text": [
      "0.333333\n"
     ]
    }
   ],
   "source": [
    "for i in a:\n",
    "    if i < 0:\n",
    "        negative += 1\n",
    "    elif i > 0:\n",
    "        positive += 1\n",
    "    else:\n",
    "        zero += 1\n",
    "print(format(negative/l, '.6f'))"
   ]
  },
  {
   "cell_type": "code",
   "execution_count": 32,
   "metadata": {},
   "outputs": [],
   "source": [
    "def plusMinus(arr):\n",
    "    negative = positive = zero = 0\n",
    "    n = 6\n",
    "    for i in arr:\n",
    "        if i < 0:\n",
    "            negative += 1\n",
    "        elif i > 0:\n",
    "            positive += 1\n",
    "        else:\n",
    "            zero += 1\n",
    "    print(format(positive/n, '.6f'), format(negative/n, '.6f'), format(zero/n, '.6f'), sep='\\n' )\n",
    "    # print(format(negative/n, '.6f'))\n",
    "    # print(format(zero/n, '.6f'))"
   ]
  },
  {
   "cell_type": "code",
   "execution_count": 33,
   "metadata": {},
   "outputs": [
    {
     "output_type": "stream",
     "name": "stdout",
     "text": [
      "0.500000\n0.166667\n0.333333\n"
     ]
    }
   ],
   "source": [
    "plusMinus([1,2,-1,0,0,3])"
   ]
  },
  {
   "cell_type": "code",
   "execution_count": null,
   "metadata": {},
   "outputs": [],
   "source": []
  },
  {
   "cell_type": "code",
   "execution_count": null,
   "metadata": {},
   "outputs": [],
   "source": []
  }
 ]
}