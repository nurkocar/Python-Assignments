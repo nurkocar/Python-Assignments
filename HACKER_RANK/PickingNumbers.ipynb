{
 "metadata": {
  "language_info": {
   "codemirror_mode": {
    "name": "ipython",
    "version": 3
   },
   "file_extension": ".py",
   "mimetype": "text/x-python",
   "name": "python",
   "nbconvert_exporter": "python",
   "pygments_lexer": "ipython3",
   "version": "3.9.2"
  },
  "orig_nbformat": 2,
  "kernelspec": {
   "name": "python392jvsc74a57bd05ec24cc9f5f6fed4b379b1e2801ab6ecae928a4ed55537f8d5504dd0f360fe09",
   "display_name": "Python 3.9.2 64-bit"
  },
  "metadata": {
   "interpreter": {
    "hash": "5ec24cc9f5f6fed4b379b1e2801ab6ecae928a4ed55537f8d5504dd0f360fe09"
   }
  }
 },
 "nbformat": 4,
 "nbformat_minor": 2,
 "cells": [
  {
   "cell_type": "code",
   "execution_count": 30,
   "metadata": {},
   "outputs": [],
   "source": [
    "from collections import Counter\n",
    "def pickingNumbers(a):\n",
    "    d = Counter(a)\n",
    "    print(d)\n",
    "    for i in d:\n",
    "        print(i)\n",
    "    b = max(d)\n",
    "    print(d[b])"
   ]
  },
  {
   "cell_type": "code",
   "execution_count": 31,
   "metadata": {},
   "outputs": [
    {
     "output_type": "stream",
     "name": "stdout",
     "text": [
      "Counter({4: 5, 1: 3, 5: 1, 3: 1, 2: 1})\n1\n5\n3\n4\n2\n1\n"
     ]
    }
   ],
   "source": [
    "pickingNumbers([1,5,3,4,1,1,2,4,4,4,4])"
   ]
  },
  {
   "cell_type": "code",
   "execution_count": 36,
   "metadata": {},
   "outputs": [],
   "source": [
    "def pickingNumbers(a):\n",
    "    # print(a)\n",
    "    arr = Counter(a)\n",
    "    print(arr)\n",
    "    max_num = 0\n",
    "    for i in range(len(arr)):\n",
    "        max_num = max(max_num, arr[i] + arr[i+1])\n",
    "        print(max_num)\n",
    "    return max_num"
   ]
  },
  {
   "cell_type": "code",
   "execution_count": 37,
   "metadata": {},
   "outputs": [
    {
     "output_type": "stream",
     "name": "stdout",
     "text": [
      "Counter({4: 5, 1: 3, 5: 1, 3: 1, 2: 1})\n3\n4\n4\n6\n6\n"
     ]
    },
    {
     "output_type": "execute_result",
     "data": {
      "text/plain": [
       "6"
      ]
     },
     "metadata": {},
     "execution_count": 37
    }
   ],
   "source": [
    "pickingNumbers([1,5,3,4,1,1,2,4,4,4,4])"
   ]
  },
  {
   "cell_type": "code",
   "execution_count": null,
   "metadata": {},
   "outputs": [],
   "source": []
  },
  {
   "cell_type": "code",
   "execution_count": 38,
   "metadata": {},
   "outputs": [],
   "source": [
    "def pickingNumbers(a):\n",
    "    # Write your code here\n",
    "    B, C = list(set(a)), []\n",
    "    print(B)\n",
    "    for k,i in enumerate(B):\n",
    "        for j in B[k:]:\n",
    "            if j-i == 1 or j - i == -1: C.append(a.count(i)+a.count(j))\n",
    "            if i == j: C.append(a.count(i))\n",
    "    return max(C)"
   ]
  },
  {
   "cell_type": "code",
   "execution_count": 39,
   "metadata": {},
   "outputs": [
    {
     "output_type": "stream",
     "name": "stdout",
     "text": [
      "[1, 2, 3, 4, 5]\n0 1\n1 2\n2 3\n3 4\n4 5\n"
     ]
    },
    {
     "output_type": "execute_result",
     "data": {
      "text/plain": [
       "6"
      ]
     },
     "metadata": {},
     "execution_count": 39
    }
   ],
   "source": [
    "pickingNumbers([1,5,3,4,1,1,2,4,4,4,4])"
   ]
  },
  {
   "cell_type": "code",
   "execution_count": null,
   "metadata": {},
   "outputs": [],
   "source": []
  }
 ]
}