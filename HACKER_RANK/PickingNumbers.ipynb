{
 "metadata": {
<<<<<<< HEAD
  "orig_nbformat": 2,
  "kernelspec": {
   "name": "python3",
   "display_name": "Python 3",
   "language": "python"
=======
  "language_info": {
   "codemirror_mode": {
    "name": "ipython",
    "version": 3
   },
   "file_extension": ".py",
   "mimetype": "text/x-python",
   "name": "python",
   "nbconvert_exporter": "python",
   "pygments_lexer": "ipython3",
   "version": "3.9.2"
  },
  "orig_nbformat": 2,
  "kernelspec": {
   "name": "python392jvsc74a57bd05ec24cc9f5f6fed4b379b1e2801ab6ecae928a4ed55537f8d5504dd0f360fe09",
   "display_name": "Python 3.9.2 64-bit"
  },
  "metadata": {
   "interpreter": {
    "hash": "5ec24cc9f5f6fed4b379b1e2801ab6ecae928a4ed55537f8d5504dd0f360fe09"
   }
>>>>>>> 211e0f57f608f9b4c5b9ed82b8d6c104a6e02660
  }
 },
 "nbformat": 4,
 "nbformat_minor": 2,
 "cells": [
  {
   "cell_type": "code",
<<<<<<< HEAD
   "execution_count": 26,
   "metadata": {},
   "outputs": [],
   "source": [
    "# Complete the 'pickingNumbers' function below.\n",
    "#\n",
    "# The function is expected to return an INTEGER.\n",
    "# The function accepts INTEGER_ARRAY a as parameter.\n",
    "#\n",
    "\n",
    "def pickingNumbers(a"
=======
   "execution_count": 6,
   "metadata": {},
   "outputs": [],
   "source": [
    "from collections import Counter\n",
    "def pickingNumbers(a):\n",
    "    # print(a)\n",
    "    arr = Counter(a)\n",
    "    print(arr)\n",
    "    max_num = 0\n",
    "    n = len(a)\n",
    "    for i in range(n):\n",
    "        max_num = max(max_num, arr[i] + arr[i+1])\n",
    "        print(max_num)\n",
    "    return max_num"
>>>>>>> 211e0f57f608f9b4c5b9ed82b8d6c104a6e02660
   ]
  },
  {
   "cell_type": "code",
<<<<<<< HEAD
   "execution_count": 27,
=======
   "execution_count": 7,
   "metadata": {},
   "outputs": [
    {
     "output_type": "stream",
     "name": "stdout",
     "text": [
      "Counter({5: 3, 1: 2, 2: 2, 4: 2})\n2\n4\n4\n4\n5\n5\n5\n5\n5\n5\n"
     ]
    }
   ],
   "source": [
    "print(pickingNumbers([1,1,2,2,4,4,5,5,5]))"
   ]
  },
  {
   "cell_type": "code",
   "execution_count": 8,
>>>>>>> 211e0f57f608f9b4c5b9ed82b8d6c104a6e02660
   "metadata": {},
   "outputs": [
    {
     "output_type": "execute_result",
     "data": {
      "text/plain": [
       "2"
      ]
     },
     "metadata": {},
<<<<<<< HEAD
     "execution_count": 27
    }
   ],
   "source": [
    "pickingNumbers([3,2,2,3,1,2,1,1,1,1])"
=======
     "execution_count": 8
    }
   ],
   "source": [
    "[1,1,2].count(1)"
>>>>>>> 211e0f57f608f9b4c5b9ed82b8d6c104a6e02660
   ]
  },
  {
   "cell_type": "code",
   "execution_count": null,
   "metadata": {},
   "outputs": [],
   "source": []
<<<<<<< HEAD
  },
  {
   "cell_type": "code",
   "execution_count": null,
   "metadata": {},
   "outputs": [],
   "source": []
=======
>>>>>>> 211e0f57f608f9b4c5b9ed82b8d6c104a6e02660
  }
 ]
}