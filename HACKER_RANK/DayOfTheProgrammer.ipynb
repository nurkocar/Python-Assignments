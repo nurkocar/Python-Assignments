{
 "metadata": {
  "language_info": {
   "codemirror_mode": {
    "name": "ipython",
    "version": 3
   },
   "file_extension": ".py",
   "mimetype": "text/x-python",
   "name": "python",
   "nbconvert_exporter": "python",
   "pygments_lexer": "ipython3",
   "version": 3
  },
  "orig_nbformat": 2
 },
 "nbformat": 4,
 "nbformat_minor": 2,
 "cells": [
  {
   "cell_type": "code",
   "execution_count": null,
   "metadata": {},
   "outputs": [],
   "source": [
    "year = int(input().strip())\n",
    "def dayOfProgrammer(year):\n",
    "    if year == 1918:\n",
    "        return \"26.09.1918\"\n",
    "    elif (1699 < year < 1917 and year % 4 == 0) or (2701 > year > 1918 and(year % 400 == 0 or (year % 4 == 0 and year % 100 != 0))):\n",
    "        return \"12.09.%s\"  year\n",
    "    else:\n",
    "        return \"13.09.%s\"  year\n",
    "dayOfProgrammer(year)"
   ]
  }
 ]
}