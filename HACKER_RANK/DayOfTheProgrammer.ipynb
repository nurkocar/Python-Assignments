{
 "metadata": {
  "language_info": {
   "codemirror_mode": {
    "name": "ipython",
    "version": 3
   },
   "file_extension": ".py",
   "mimetype": "text/x-python",
   "name": "python",
   "nbconvert_exporter": "python",
   "pygments_lexer": "ipython3",
   "version": "3.9.2"
  },
  "orig_nbformat": 2,
  "kernelspec": {
   "name": "python392jvsc74a57bd05ec24cc9f5f6fed4b379b1e2801ab6ecae928a4ed55537f8d5504dd0f360fe09",
   "display_name": "Python 3.9.2 64-bit"
  },
  "metadata": {
   "interpreter": {
    "hash": "5ec24cc9f5f6fed4b379b1e2801ab6ecae928a4ed55537f8d5504dd0f360fe09"
   }
  }
 },
 "nbformat": 4,
 "nbformat_minor": 2,
 "cells": [
  {
   "cell_type": "code",
   "execution_count": 2,
   "metadata": {},
   "outputs": [
    {
     "output_type": "execute_result",
     "data": {
      "text/plain": [
       "'13.09.1917'"
      ]
     },
     "metadata": {},
     "execution_count": 2
    }
   ],
   "source": [
    "year = int(input().strip())\n",
    "def dayOfProgrammer(year):\n",
    "    if year == 1918:\n",
    "        return \"26.09.1918\"\n",
    "    elif (1699 < year < 1917 and year % 4 == 0) or (2701 > year > 1918 and(year % 400 == 0 or (year % 4 == 0 and year % 100 != 0))):\n",
    "        return \"12.09.%s\" % year\n",
    "    else:\n",
    "        return \"13.09.%s\" % year\n",
    "dayOfProgrammer(year)"
   ]
  },
  {
   "cell_type": "code",
   "execution_count": null,
   "metadata": {},
   "outputs": [],
   "source": []
  }
 ]
}