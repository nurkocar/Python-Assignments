{
 "metadata": {
  "language_info": {
   "codemirror_mode": {
    "name": "ipython",
    "version": 3
   },
   "file_extension": ".py",
   "mimetype": "text/x-python",
   "name": "python",
   "nbconvert_exporter": "python",
   "pygments_lexer": "ipython3",
   "version": "3.9.2"
  },
  "orig_nbformat": 2,
  "kernelspec": {
   "name": "python392jvsc74a57bd05ec24cc9f5f6fed4b379b1e2801ab6ecae928a4ed55537f8d5504dd0f360fe09",
   "display_name": "Python 3.9.2 64-bit"
  },
  "metadata": {
   "interpreter": {
    "hash": "5ec24cc9f5f6fed4b379b1e2801ab6ecae928a4ed55537f8d5504dd0f360fe09"
   }
  }
 },
 "nbformat": 4,
 "nbformat_minor": 2,
 "cells": [
  {
   "cell_type": "code",
   "execution_count": 2,
   "metadata": {},
   "outputs": [
    {
     "output_type": "stream",
     "name": "stdout",
     "text": [
      "Collecting numpy\n",
      "  Downloading numpy-1.20.2-cp39-cp39-win_amd64.whl (13.7 MB)\n",
      "Installing collected packages: numpy\n",
      "Successfully installed numpy-1.20.2\n",
      "Note: you may need to restart the kernel to use updated packages.\n",
      "WARNING: You are using pip version 20.2.3; however, version 21.0.1 is available.\n",
      "You should consider upgrading via the 'C:\\Users\\Yusuf\\AppData\\Local\\Programs\\Python\\Python39\\python.exe -m pip install --upgrade pip' command.\n"
     ]
    }
   ],
   "source": [
    "pip install numpy"
   ]
  },
  {
   "cell_type": "code",
   "execution_count": 7,
   "metadata": {},
   "outputs": [
    {
     "output_type": "stream",
     "name": "stdout",
     "text": [
      "420\n"
     ]
    }
   ],
   "source": [
    "import numpy as np\n",
    "divisor_list = [3,4,5,6,7,2]\n",
    "# print(int(np.lcm(divisor_list)))\n",
    "print(int(np.lcm.reduce(divisor_list)))"
   ]
  },
  {
   "cell_type": "code",
   "execution_count": 12,
   "metadata": {},
   "outputs": [
    {
     "output_type": "stream",
     "name": "stdout",
     "text": [
      "420\n"
     ]
    }
   ],
   "source": [
    "import math\n",
    "divisor_list = [3,4,5,6,7,2]\n",
    "print(math.lcm(*divisor_list))"
   ]
  },
  {
   "cell_type": "code",
   "execution_count": 3,
   "metadata": {},
   "outputs": [],
   "source": [
    "import math\n",
    "def lcm_of_list(numbers):\n",
    "    return(math.lcm(*numbers))\n"
   ]
  },
  {
   "cell_type": "code",
   "execution_count": 4,
   "metadata": {},
   "outputs": [
    {
     "output_type": "stream",
     "name": "stdout",
     "text": [
      "2520\n"
     ]
    }
   ],
   "source": [
    "print(lcm_of_list([1, 2, 3, 4, 5, 6, 7, 8, 9, 10]))"
   ]
  },
  {
   "cell_type": "code",
   "execution_count": 15,
   "metadata": {},
   "outputs": [
    {
     "output_type": "stream",
     "name": "stdout",
     "text": [
      "27965340\n"
     ]
    }
   ],
   "source": [
    "print(lcm_of_list([13, 6, 17, 18, 19, 20, 37]))"
   ]
  },
  {
   "cell_type": "code",
   "execution_count": 16,
   "metadata": {},
   "outputs": [
    {
     "output_type": "stream",
     "name": "stdout",
     "text": [
      "2333760\n"
     ]
    }
   ],
   "source": [
    "print(lcm_of_list([44, 64, 12, 17, 65]))"
   ]
  },
  {
   "cell_type": "code",
   "execution_count": 10,
   "metadata": {},
   "outputs": [],
   "source": [
    "def lcm_of_list(nums):\n",
    "    b = max(nums)\n",
    "    print(b)\n",
    "    while True:\n",
    "        arr = [b%i == 0 for i in nums]\n",
    "        print(arr)\n",
    "        if all(arr):\n",
    "            print('if e girdim')\n",
    "            break\n",
    "        else:\n",
    "            print('else e girdim')\n",
    "            b+=max(nums)\n",
    "            print(b)\n",
    "    return b"
   ]
  },
  {
   "cell_type": "code",
   "execution_count": 11,
   "metadata": {},
   "outputs": [
    {
     "output_type": "stream",
     "name": "stdout",
     "text": [
      "4\n[True, True, False, True]\nelse e girdim\n8\n[True, True, False, True]\nelse e girdim\n12\n[True, True, True, True]\nif e girdim\n12\n"
     ]
    }
   ],
   "source": [
    "print(lcm_of_list([1, 2, 3, 4]))"
   ]
  },
  {
   "cell_type": "code",
   "execution_count": null,
   "metadata": {},
   "outputs": [],
   "source": []
  }
 ]
}