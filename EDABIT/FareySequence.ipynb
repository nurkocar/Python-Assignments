{
 "metadata": {
  "orig_nbformat": 2,
  "kernelspec": {
   "name": "python3",
   "display_name": "Python 3",
   "language": "python"
  }
 },
 "nbformat": 4,
 "nbformat_minor": 2,
 "cells": [
  {
   "source": [
    "The Farey sequence of order n is the set of all fractions with a denominator between 1 and n, reduced and returned in ascending order. Given n, return the Farey sequence as a list, with each fraction being represented by a string in the form \"numerator/denominator\"."
   ],
   "cell_type": "markdown",
   "metadata": {}
  },
  {
   "source": [
    "farey(1) ➞ [\"0/1\", \"1/1\"]\n",
    "\n",
    "farey(4) ➞ [\"0/1\", \"1/4\", \"1/3\", \"1/2\", \"2/3\", \"3/4\", \"1/1\"]"
   ],
   "cell_type": "markdown",
   "metadata": {}
  },
  {
   "cell_type": "code",
   "execution_count": 41,
   "metadata": {},
   "outputs": [],
   "source": [
    "def farey(n):\n",
    "    arr = ['0/1']\n",
    "    for i in range(1, n+1):\n",
    "        for j in range(1, n+1):\n",
    "            if i != j and not i >= j:\n",
    "                arr.append('{}/{}'.format(i,j))\n",
    "            else: continue\n",
    "    return sorted(arr)\n"
   ]
  },
  {
   "cell_type": "code",
   "execution_count": 42,
   "metadata": {},
   "outputs": [
    {
     "output_type": "execute_result",
     "data": {
      "text/plain": [
       "['0/1', '1/2', '1/3', '1/4', '2/3', '2/4', '3/4']"
      ]
     },
     "metadata": {},
     "execution_count": 42
    }
   ],
   "source": [
    "farey(4)"
   ]
  },
  {
   "cell_type": "code",
   "execution_count": 43,
   "metadata": {},
   "outputs": [
    {
     "output_type": "execute_result",
     "data": {
      "text/plain": [
       "['0/1']"
      ]
     },
     "metadata": {},
     "execution_count": 43
    }
   ],
   "source": [
    "farey(1)"
   ]
  },
  {
   "cell_type": "code",
   "execution_count": null,
   "metadata": {},
   "outputs": [],
   "source": []
  }
 ]
}