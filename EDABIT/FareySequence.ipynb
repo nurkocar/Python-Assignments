{
 "metadata": {
  "language_info": {
   "codemirror_mode": {
    "name": "ipython",
    "version": 3
   },
   "file_extension": ".py",
   "mimetype": "text/x-python",
   "name": "python",
   "nbconvert_exporter": "python",
   "pygments_lexer": "ipython3",
   "version": "3.9.2"
  },
  "orig_nbformat": 2,
  "kernelspec": {
   "name": "python392jvsc74a57bd05ec24cc9f5f6fed4b379b1e2801ab6ecae928a4ed55537f8d5504dd0f360fe09",
   "display_name": "Python 3.9.2 64-bit"
  },
  "metadata": {
   "interpreter": {
    "hash": "5ec24cc9f5f6fed4b379b1e2801ab6ecae928a4ed55537f8d5504dd0f360fe09"
   }
  }
 },
 "nbformat": 4,
 "nbformat_minor": 2,
 "cells": [
  {
   "source": [
    "The Farey sequence of order n is the set of all fractions with a denominator between 1 and n, reduced and returned in ascending order. Given n, return the Farey sequence as a list, with each fraction being represented by a string in the form \"numerator/denominator\"."
   ],
   "cell_type": "markdown",
   "metadata": {}
  },
  {
   "source": [
    "farey(1) ➞ [\"0/1\", \"1/1\"]\n",
    "\n",
    "farey(4) ➞ [\"0/1\", \"1/4\", \"1/3\", \"1/2\", \"2/3\", \"3/4\", \"1/1\"]"
   ],
   "cell_type": "markdown",
   "metadata": {}
  },
  {
   "cell_type": "code",
<<<<<<< HEAD
   "execution_count": 79,
   "metadata": {},
   "outputs": [],
   "source": [
    "def farey(n):\n",
    "    arr = ['0/1']\n",
    "    for i in range(1, n+1):\n",
    "        for j in range(n, 1, -1):\n",
    "            if i != j and not i >= j and not n / i == 2:\n",
    "                arr.append('{}/{}'.format(i,j))\n",
    "            else: continue\n",
    "    return arr\n"
   ]
  },
  {
   "cell_type": "code",
   "execution_count": 80,
   "metadata": {},
   "outputs": [
    {
     "output_type": "execute_result",
     "data": {
      "text/plain": [
       "['0/1', '1/4', '1/3', '1/2', '3/4']"
      ]
     },
     "metadata": {},
     "execution_count": 80
=======
   "execution_count": 5,
   "metadata": {},
   "outputs": [
    {
     "output_type": "error",
     "ename": "IndentationError",
     "evalue": "unindent does not match any outer indentation level (<tokenize>, line 6)",
     "traceback": [
      "\u001b[1;36m  File \u001b[1;32m\"<tokenize>\"\u001b[1;36m, line \u001b[1;32m6\u001b[0m\n\u001b[1;33m    return T\u001b[0m\n\u001b[1;37m    ^\u001b[0m\n\u001b[1;31mIndentationError\u001b[0m\u001b[1;31m:\u001b[0m unindent does not match any outer indentation level\n"
     ]
>>>>>>> 211e0f57f608f9b4c5b9ed82b8d6c104a6e02660
    }
   ],
   "source": [
    "def farey(n):\n",
    "\tT = []\n",
    "\tfor i in range(1,n+1):\n",
    "        for j in range(1,i):\n",
    "            T.append([j,i])\n",
    "    return T\n",
    "print(farey(5))"
   ]
  },
  {
   "cell_type": "code",
<<<<<<< HEAD
   "execution_count": 81,
   "metadata": {},
   "outputs": [
    {
     "output_type": "execute_result",
     "data": {
      "text/plain": [
       "['0/1']"
      ]
     },
     "metadata": {},
     "execution_count": 81
    }
   ],
   "source": [
    "farey(2)"
=======
   "execution_count": 7,
   "metadata": {},
   "outputs": [],
   "source": [
    "def farey(n):\n",
    "    lst1 = [\"0/1\"]\n",
    "    lst2 = [0]\n",
    "    for i in range(1, n + 1):\n",
    "        for j in range(1, i):\n",
    "            if round(j / i, 10) in lst2:\n",
    "                continue\n",
    "            else:\n",
    "                lst1.append(str(j) + \"/\" + str(i))\n",
    "                lst2.append(round(j / i, 10))\n",
    "    answer = [x for _, x in sorted(zip(lst2, lst1))]\n",
    "    answer.append(\"1/1\")\n",
    "    return answer"
>>>>>>> 211e0f57f608f9b4c5b9ed82b8d6c104a6e02660
   ]
  },
  {
   "cell_type": "code",
   "execution_count": null,
   "metadata": {},
   "outputs": [],
   "source": [
    "def farey(n):\n",
    "    arr = ['0/1']\n",
    "    for i in range(1, n+1):\n",
    "        for j in range(1, n+1):\n",
    "            if i != j and not i >= j:\n",
    "                arr.append('{}/{}'.format(i,j))\n",
    "            else: continue\n",
    "    return sorted(arr)"
   ]
  }
 ]
}