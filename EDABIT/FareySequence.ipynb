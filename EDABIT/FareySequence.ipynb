{
 "metadata": {
  "language_info": {
   "codemirror_mode": {
    "name": "ipython",
    "version": 3
   },
   "file_extension": ".py",
   "mimetype": "text/x-python",
   "name": "python",
   "nbconvert_exporter": "python",
   "pygments_lexer": "ipython3",
   "version": 3
  },
  "orig_nbformat": 2
 },
 "nbformat": 4,
 "nbformat_minor": 2,
 "cells": [
  {
   "source": [
    "The Farey sequence of order n is the set of all fractions with a denominator between 1 and n, reduced and returned in ascending order. Given n, return the Farey sequence as a list, with each fraction being represented by a string in the form \"numerator/denominator\"."
   ],
   "cell_type": "markdown",
   "metadata": {}
  },
  {
   "source": [
    "farey(1) ➞ [\"0/1\", \"1/1\"]\n",
    "\n",
    "farey(4) ➞ [\"0/1\", \"1/4\", \"1/3\", \"1/2\", \"2/3\", \"3/4\", \"1/1\"]"
   ],
   "cell_type": "markdown",
   "metadata": {}
  },
  {
   "cell_type": "code",
   "execution_count": null,
   "metadata": {},
   "outputs": [],
   "source": []
  }
 ]
}