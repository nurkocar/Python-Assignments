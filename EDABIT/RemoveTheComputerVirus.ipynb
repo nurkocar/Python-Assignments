{
 "metadata": {
  "language_info": {
   "codemirror_mode": {
    "name": "ipython",
    "version": 3
   },
   "file_extension": ".py",
   "mimetype": "text/x-python",
   "name": "python",
   "nbconvert_exporter": "python",
   "pygments_lexer": "ipython3",
   "version": "3.9.2"
  },
  "orig_nbformat": 2,
  "kernelspec": {
   "name": "python392jvsc74a57bd05ec24cc9f5f6fed4b379b1e2801ab6ecae928a4ed55537f8d5504dd0f360fe09",
   "display_name": "Python 3.9.2 64-bit"
  },
  "metadata": {
   "interpreter": {
    "hash": "5ec24cc9f5f6fed4b379b1e2801ab6ecae928a4ed55537f8d5504dd0f360fe09"
   }
  }
 },
 "nbformat": 4,
 "nbformat_minor": 2,
 "cells": [
  {
   "cell_type": "code",
   "execution_count": 114,
   "metadata": {},
   "outputs": [],
   "source": [
    "def remove_virus(files):\n",
    "    files = files.strip().split()\n",
    "    print(files)\n",
    "    for i in files:\n",
    "        v = i.find('virus')\n",
    "        m = i.find('malware')\n",
    "        print(v)\n",
    "        print(m)\n",
    "        if i.startswith('antivirus') or i.startswith('notvirus'):\n",
    "            continue\n",
    "        else:\n",
    "            files.remove(i)\n",
    "    return ' '.join(files)\n"
   ]
  },
  {
   "cell_type": "code",
   "execution_count": 115,
   "metadata": {},
   "outputs": [
    {
     "output_type": "stream",
     "name": "stdout",
     "text": [
      "['PC', 'Files:', 'spotifysetup.exe,', 'virus.exe,', 'dog.jpg']\n-1\n-1\n-1\n-1\n-1\n-1\nFiles: virus.exe,\n"
     ]
    }
   ],
   "source": [
    "print(remove_virus(\"PC Files: spotifysetup.exe, virus.exe, dog.jpg\"))"
   ]
  },
  {
   "cell_type": "code",
   "execution_count": 107,
   "metadata": {},
   "outputs": [
    {
     "output_type": "stream",
     "name": "stdout",
     "text": [
      "PC Files: antivirus.exe, cat.pdf, lethalmalware.exe, dangerousvirus.exe \n"
     ]
    }
   ],
   "source": [
    "print(\"PC Files: antivirus.exe, cat.pdf, lethalmalware.exe, dangerousvirus.exe \")"
   ]
  },
  {
   "cell_type": "code",
   "execution_count": 103,
   "metadata": {},
   "outputs": [
    {
     "output_type": "stream",
     "name": "stdout",
     "text": [
      "PC Files: notvirus.exe, funnycat.gif\n"
     ]
    }
   ],
   "source": [
    "print(\"PC Files: notvirus.exe, funnycat.gif\")"
   ]
  },
  {
   "cell_type": "code",
   "execution_count": 104,
   "metadata": {},
   "outputs": [
    {
     "output_type": "stream",
     "name": "stdout",
     "text": [
      "PC Files: virus.exe, bestmalware.exe, memzvirus.exe\n"
     ]
    }
   ],
   "source": [
    "print(\"PC Files: virus.exe, bestmalware.exe, memzvirus.exe\")"
   ]
  },
  {
   "cell_type": "code",
   "execution_count": null,
   "metadata": {},
   "outputs": [],
   "source": []
  }
 ]
}